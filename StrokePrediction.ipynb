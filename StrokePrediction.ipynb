{
 "cells": [
  {
   "cell_type": "markdown",
   "id": "8871c1bb",
   "metadata": {},
   "source": [
    "## Storke Prediction\n",
    "\n",
    "    Dataset: https://www.kaggle.com/datasets/fedesoriano/stroke-prediction-dataset\n",
    "\n",
    "##### Data Dictionary: \n",
    "\n",
    "    id: unique identifier\n",
    "    gender: \"Male\", \"Female\" or \"Other\"\n",
    "    age: age of the patient\n",
    "    hypertension: 0 if the patient doesn't have hypertension, 1 if the patient has hypertension\n",
    "    heart_disease: 0 if the patient doesn't have any heart diseases, 1 if the patient has a heart disease\n",
    "    ever_married: \"No\" or \"Yes\"\n",
    "    work_type: \"children\", \"Govt_jov\", \"Never_worked\", \"Private\" or \"Self-employed\"\n",
    "    Residence_type: \"Rural\" or \"Urban\"\n",
    "    avg_glucose_level: average glucose level in blood\n",
    "    bmi: body mass index\n",
    "    moking_status: \"formerly smoked\", \"never smoked\", \"smokes\" or \"Unknown\"*\n",
    "    stroke: 1 if the patient had a stroke or 0 if not"
   ]
  },
  {
   "cell_type": "code",
   "execution_count": null,
   "id": "93b7bb0e",
   "metadata": {},
   "outputs": [],
   "source": []
  }
 ],
 "metadata": {
  "kernelspec": {
   "display_name": "Python 3 (ipykernel)",
   "language": "python",
   "name": "python3"
  },
  "language_info": {
   "codemirror_mode": {
    "name": "ipython",
    "version": 3
   },
   "file_extension": ".py",
   "mimetype": "text/x-python",
   "name": "python",
   "nbconvert_exporter": "python",
   "pygments_lexer": "ipython3",
   "version": "3.10.9"
  }
 },
 "nbformat": 4,
 "nbformat_minor": 5
}
